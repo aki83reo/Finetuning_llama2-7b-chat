{
 "cells": [
  {
   "cell_type": "code",
   "execution_count": 1,
   "metadata": {},
   "outputs": [],
   "source": [
    "import os\n",
    "os.environ['GRADIENT_WORKSPACE_ID']=''\n",
    "os.environ['GRADIENT_ACCESS_TOKEN']=''    "
   ]
  },
  {
   "cell_type": "code",
   "execution_count": 3,
   "metadata": {},
   "outputs": [],
   "source": [
    "#!pip install gradientai --upgrade"
   ]
  },
  {
   "cell_type": "code",
   "execution_count": 6,
   "metadata": {},
   "outputs": [
    {
     "name": "stdout",
     "output_type": "stream",
     "text": [
      "Created model adapter with id be3271d2-e55f-4647-8092-e1b1406d7008_model_adapter\n",
      "Asking: ### Instruction: What are the growing industries in india ? \n",
      "\n",
      " ### Response:\n",
      "Generated(before fine tuning):  India has a diverse and rapidly growing economy, with several industries experiencing significant growth and development. Here are some of the key growing industries in India:\n",
      "\n",
      "1. Information Technology (IT): India is a global leader in IT services, with major players like TCS, Infosys, and Wipro. The industry is expected to continue growing, driven by the increasing demand for digital transformation, cloud computing, and artificial intelligence.\n",
      "2. E-commerce: The e-\n",
      "Fine tuning the model with iteration 1\n",
      "Fine tuning the model with iteration 2\n",
      "Fine tuning the model with iteration 3\n",
      "Generated(after fine tuning):  There are several growing industries in India, including:\n",
      "\n",
      "1. Information Technology (IT): India is home to a large pool of skilled IT professionals and has emerged as a major hub for software development, data analytics, and other IT-related services.\n",
      "2. Automotive: The Indian automotive industry is growing rapidly, with a focus on manufacturing passenger vehicles, commercial vehicles, and two-wheelers.\n",
      "3. Pharmaceutical\n"
     ]
    }
   ],
   "source": [
    "from gradientai import Gradient\n",
    "\n",
    "\n",
    "def main():\n",
    "    gradient = Gradient()\n",
    "\n",
    "    base_model = gradient.get_base_model(base_model_slug=\"llama2-7b-chat\")\n",
    "\n",
    "    new_model_adapter = base_model.create_model_adapter(\n",
    "        name=\"ashismodel\"\n",
    "    )\n",
    "    print(f\"Created model adapter with id {new_model_adapter.id}\")\n",
    "\n",
    "\n",
    "    sample_query = \"### Instruction: What are the growing industries in india ? \\n\\n ### Response:\"\n",
    "    print(f\"Asking: {sample_query}\")\n",
    "    ## Before Finetuning\n",
    "    completion = new_model_adapter.complete(query=sample_query, max_generated_token_count=100).generated_output\n",
    "    print(f\"Generated(before fine tuning): {completion}\")\n",
    "\n",
    "    samples=[\n",
    "        \n",
    "    {\n",
    "        \"inputs\": \"### Question: What is the capital of India?, ### Response: The capital of India is New Delhi.\",\n",
    "        \"response\": \"### Answer: New Delhi\"\n",
    "    },  \n",
    "    {\n",
    "        \"inputs\": \"### Question: Who is the current Prime Minister of India?, ### Response: The current Prime Minister of India is Narendra Modi.\",\n",
    "        \"response\": \"### Answer: Narendra Modi\"\n",
    "    },\n",
    "    {\n",
    "        \"inputs\": \"### Question: What is the population of India?, ### Response: The population of India is approximately 1.4 billion.\",\n",
    "        \"response\": \"### Answer: Approximately 1.4 billion\"\n",
    "    },\n",
    "    {\n",
    "        \"inputs\": \"### Question: What are the major languages spoken in India?, ### Response: The major languages spoken in India are Hindi, Bengali, Telugu, Marathi, Tamil, Urdu, Gujarati, Kannada, Odia, Malayalam, Punjabi, and Assamese.\",\n",
    "        \"response\": \"### Answer: Hindi, Bengali, Telugu, Marathi, Tamil, Urdu, Gujarati, Kannada, Odia, Malayalam, Punjabi, and Assamese\"\n",
    "    },\n",
    "    {\n",
    "        \"inputs\": \"### Question: What is the currency of India?, ### Response: The currency of India is the Indian Rupee (INR).\",\n",
    "        \"response\": \"### Answer: Indian Rupee (INR)\"\n",
    "    },\n",
    "    {\n",
    "        \"inputs\": \"### Question: What are the major industries in India?, ### Response: The major industries in India include textiles, chemicals, food processing, steel, transportation equipment, cement, mining, petroleum, machinery, and software.\",\n",
    "        \"response\": \"### Answer: Textiles, chemicals, food processing, steel, transportation equipment, cement, mining, petroleum, machinery, and software\"\n",
    "    },\n",
    "    {\n",
    "        \"inputs\": \"### Question: What is the literacy rate in India?, ### Response: The literacy rate in India is approximately 74%.\",\n",
    "        \"response\": \"### Answer: Approximately 74%\"\n",
    "    },\n",
    "    {\n",
    "        \"inputs\": \"### Question: What are some famous landmarks in India?, ### Response: Some famous landmarks in India include the Taj Mahal, Red Fort, Qutub Minar, India Gate, and Jaipur's Hawa Mahal.\",\n",
    "        \"response\": \"### Answer: Taj Mahal, Red Fort, Qutub Minar, India Gate, and Jaipur's Hawa Mahal\"\n",
    "    },\n",
    "    {\n",
    "        \"inputs\": \"### Question: What is the national animal of India?, ### Response: The national animal of India is the Bengal Tiger.\",\n",
    "        \"response\": \"### Answer: Bengal Tiger\"\n",
    "    },\n",
    "    {\n",
    "        \"inputs\": \"### Question: What is the national flower of India?, ### Response: The national flower of India is the Lotus.\",\n",
    "        \"response\": \"### Answer: Lotus\"\n",
    "    }\n",
    "\n",
    "\n",
    "    ]\n",
    "\n",
    "    ## Lets define parameters for finetuning\n",
    "    num_epochs=3\n",
    "    count=0\n",
    "    while count<num_epochs:\n",
    "      print(f\"Fine tuning the model with iteration {count + 1}\")\n",
    "      new_model_adapter.fine_tune(samples=samples)\n",
    "      count=count+1\n",
    "\n",
    "    #after fine tuning\n",
    "    completion = new_model_adapter.complete(query=sample_query, max_generated_token_count=100).generated_output\n",
    "    print(f\"Generated(after fine tuning): {completion}\")\n",
    "    new_model_adapter.delete()\n",
    "    gradient.close()\n",
    "\n",
    "if __name__ == \"__main__\":\n",
    "    main()"
   ]
  },
  {
   "cell_type": "code",
   "execution_count": null,
   "metadata": {},
   "outputs": [],
   "source": []
  }
 ],
 "metadata": {
  "kernelspec": {
   "display_name": "Python 3.9.7 ('base')",
   "language": "python",
   "name": "python3"
  },
  "language_info": {
   "codemirror_mode": {
    "name": "ipython",
    "version": 3
   },
   "file_extension": ".py",
   "mimetype": "text/x-python",
   "name": "python",
   "nbconvert_exporter": "python",
   "pygments_lexer": "ipython3",
   "version": "3.9.7"
  },
  "orig_nbformat": 4,
  "vscode": {
   "interpreter": {
    "hash": "1448b48b023bcc9c3d4a79e814720a10ca6d4244f75e0f7ce4af58f96ba2b7d3"
   }
  }
 },
 "nbformat": 4,
 "nbformat_minor": 2
}
